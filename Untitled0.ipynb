{
  "nbformat": 4,
  "nbformat_minor": 0,
  "metadata": {
    "colab": {
      "provenance": [],
      "authorship_tag": "ABX9TyM9B53jCCRpQ1nmLV7Mv/7S",
      "include_colab_link": true
    },
    "kernelspec": {
      "name": "python3",
      "display_name": "Python 3"
    },
    "language_info": {
      "name": "python"
    }
  },
  "cells": [
    {
      "cell_type": "markdown",
      "metadata": {
        "id": "view-in-github",
        "colab_type": "text"
      },
      "source": [
        "<a href=\"https://colab.research.google.com/github/cassiagonzaga/Cassia-dio-lab-open-source/blob/main/Untitled0.ipynb\" target=\"_parent\"><img src=\"https://colab.research.google.com/assets/colab-badge.svg\" alt=\"Open In Colab\"/></a>"
      ]
    },
    {
      "cell_type": "code",
      "execution_count": 2,
      "metadata": {
        "colab": {
          "base_uri": "https://localhost:8080/"
        },
        "id": "Pn_e49jsfDvq",
        "outputId": "fc81a00f-1bee-43ba-ebaa-1cb1e8de5e4f"
      },
      "outputs": [
        {
          "output_type": "stream",
          "name": "stdout",
          "text": [
            "    Produto  Quantidade Vendida\n",
            "0  Camiseta                  18\n",
            "1      Boné                  12\n",
            "2     Tênis                   3\n",
            "\n",
            "Produto mais vendido:\n",
            "Produto               Camiseta\n",
            "Quantidade Vendida          18\n",
            "Name: 0, dtype: object\n"
          ]
        }
      ],
      "source": [
        "import pandas as pd\n",
        "\n",
        "# Criando um pequeno DataFrame (como uma planilha)\n",
        "dados = {\n",
        "    'Produto': ['Camiseta', 'Boné', 'Tênis'],\n",
        "    'Quantidade Vendida': [18, 12, 3]\n",
        "}\n",
        "\n",
        "df = pd.DataFrame(dados)\n",
        "\n",
        "# Exibindo os dados\n",
        "print(df)\n",
        "\n",
        "# Produto mais vendido\n",
        "mais_vendido = df.loc[df['Quantidade Vendida'].idxmax()]\n",
        "print(\"\\nProduto mais vendido:\")\n",
        "print(mais_vendido)"
      ]
    },
    {
      "cell_type": "code",
      "source": [],
      "metadata": {
        "id": "wAQjTaVdfVkq"
      },
      "execution_count": null,
      "outputs": []
    },
    {
      "cell_type": "code",
      "source": [],
      "metadata": {
        "id": "uvnGal05fWmP"
      },
      "execution_count": null,
      "outputs": []
    }
  ]
}